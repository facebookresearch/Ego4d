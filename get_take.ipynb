{
 "cells": [
  {
   "attachments": {},
   "cell_type": "markdown",
   "metadata": {},
   "source": [
    "`get_take_uid():`"
   ]
  },
  {
   "cell_type": "code",
   "execution_count": null,
   "metadata": {},
   "outputs": [],
   "source": [
    "import os\n",
    "import json\n",
    "from collections import defaultdict\n",
    "\n",
    "\n",
    "data_root_dir = \"/media/jinxu/New Volume/ego4dData\"  # !! CHANGEME\n",
    "take_json_path = f\"{data_root_dir}/takes.json\"\n",
    "output_dir = \"/media/jinxu/New Volume/ego4dData\"\n",
    "\n",
    "takes = json.load(open(take_json_path))\n",
    "\n",
    "by_task = defaultdict(list)\n",
    "for t in takes:\n",
    "    if not t[\"capture\"][\"has_trajectory\"]:\n",
    "        continue\n",
    "    by_task[t[\"task_name\"]].append(t)\n",
    "\n",
    "\n",
    "# Select first task from each task groups if it is not dance (hand low priority)\n",
    "for k in by_task.keys():\n",
    "    if \"choreography\" not in k.lower():\n",
    "        t = by_task[k][0]\n",
    "        take_uid = t[\"take_uid\"]\n",
    "        capture_uid = t[\"capture\"][\"capture_uid\"]\n",
    "        print( \"echo \", \"'\", \"=\"*20, f\" Downloading {k} \", \"=\"*20, \"'\")\n",
    "        print(f\"python3 ego4d/internal/download/cli.py -o '{output_dir}' --parts captures capture_raw_vrs trajectory takes -y --uid {take_uid} {capture_uid}\")\n",
    "        print()"
   ]
  },
  {
   "cell_type": "code",
   "execution_count": 2,
   "metadata": {},
   "outputs": [
    {
     "data": {
      "text/plain": [
       "285.46666666666664"
      ]
     },
     "execution_count": 2,
     "metadata": {},
     "output_type": "execute_result"
    }
   ],
   "source": [
    "by_task[\"Covid-19 Rapid Antigen Test\"][0]['duration_sec']"
   ]
  },
  {
   "cell_type": "code",
   "execution_count": 3,
   "metadata": {},
   "outputs": [
    {
     "name": "stdout",
     "output_type": "stream",
     "text": [
      "Num: 7\t Covid-19 Rapid Antigen Test\n",
      "Num: 29\t Cooking an Omelet\n",
      "Num: 39\t Making Cucumber & Tomato Salad\n",
      "Num: 29\t Making Milk Tea\n",
      "Num: 1\t Remove a Wheel\n",
      "Num: 1\t Install a Wheel\n",
      "Num: 2\t Clean and Lubricate the Chain\n",
      "Num: 3\t First Aid - CPR\n",
      "Num: 6\t Making Chai Tea\n",
      "Num: 3\t Cooking Scrambled Eggs\n",
      "Num: 2\t Cooking Tomato & Eggs\n",
      "Num: 5\t Making Coffee latte\n",
      "Num: 1\t Cooking Noodles\n",
      "Num: 1\t Cooking Pasta\n",
      "Num: 1\t Cooking Dumplings\n",
      "Num: 40\t Performing the basic choreography\n",
      "Num: 19\t Performing the advanced choreography\n",
      "Num: 1\t Teaching the basic choreography\n",
      "Num: 1\t Teaching the advanced choreography\n"
     ]
    }
   ],
   "source": [
    "for k in by_task.keys():\n",
    "    print(f\"Num: {len(by_task[k])}\\t {k}\")"
   ]
  },
  {
   "attachments": {},
   "cell_type": "markdown",
   "metadata": {},
   "source": [
    "**Generate download command for manual selected tasks**\n",
    "\n",
    "Please refer to this [sheet](https://docs.google.com/spreadsheets/d/1iv60iY7Bpru9JOS6BmmOuDDfzNT69vwg0Q0kW97hD68/edit#gid=0) for more info about which tasks to pick up."
   ]
  },
  {
   "cell_type": "code",
   "execution_count": 1,
   "metadata": {},
   "outputs": [],
   "source": [
    "import os\n",
    "import json\n",
    "from collections import defaultdict\n",
    "\n",
    "##################### Load take information #######################\n",
    "data_root_dir = \"/media/jinxu/New Volume/ego4dData\" \n",
    "take_json_path = f\"{data_root_dir}/takes.json\"\n",
    "output_dir = \"/media/jinxu/New Volume/ego4dData\"\n",
    "takes = json.load(open(take_json_path))\n",
    "\n",
    "by_task = defaultdict(list)\n",
    "for t in takes:\n",
    "    if not t[\"capture\"][\"has_trajectory\"]:\n",
    "        continue\n",
    "    by_task[t[\"task_name\"]].append(t)\n",
    "###################################################################"
   ]
  },
  {
   "cell_type": "code",
   "execution_count": 4,
   "metadata": {},
   "outputs": [],
   "source": [
    "manual_selected_take_name = ['georgiatech_covid_02_4',\n",
    "                             'georgiatech_covid_02_6']"
   ]
  },
  {
   "cell_type": "code",
   "execution_count": 5,
   "metadata": {},
   "outputs": [
    {
     "name": "stdout",
     "output_type": "stream",
     "text": [
      "echo  ' ====================  Downloading georgiatech_covid_02_4  ==================== '\n",
      "python3 ego4d/internal/download/cli.py -o '/media/jinxu/New Volume/ego4dData' --parts captures capture_raw_vrs trajectory takes -y --uid b511dfed-58f4-4c91-bf0a-f8ce9d47aea9 f7941eb0-47bc-4ed0-a344-5a52c14f650f\n",
      "\n",
      "echo  ' ====================  Downloading georgiatech_covid_02_6  ==================== '\n",
      "python3 ego4d/internal/download/cli.py -o '/media/jinxu/New Volume/ego4dData' --parts captures capture_raw_vrs trajectory takes -y --uid ede7b9c1-c501-40b3-bc6d-205ea142366c f7941eb0-47bc-4ed0-a344-5a52c14f650f\n",
      "\n"
     ]
    }
   ],
   "source": [
    "# Iterate through all available takes and generate manual selected take download command\n",
    "for task_name in by_task.keys():\n",
    "    for curr_take in by_task[task_name]:\n",
    "        if curr_take['root_dir'] in manual_selected_take_name:\n",
    "            take_uid = curr_take[\"take_uid\"]\n",
    "            capture_uid = curr_take[\"capture\"][\"capture_uid\"]\n",
    "            print( \"echo \", \"'\", \"=\"*20, f\" Downloading {curr_take['root_dir']} \", \"=\"*20, \"'\")\n",
    "            print(f\"python3 ego4d/internal/download/cli.py -o '{output_dir}' --parts captures capture_raw_vrs trajectory takes -y --uid {take_uid} {capture_uid}\")\n",
    "            print()"
   ]
  }
 ],
 "metadata": {
  "kernelspec": {
   "display_name": "human_pose",
   "language": "python",
   "name": "python3"
  },
  "language_info": {
   "codemirror_mode": {
    "name": "ipython",
    "version": 3
   },
   "file_extension": ".py",
   "mimetype": "text/x-python",
   "name": "python",
   "nbconvert_exporter": "python",
   "pygments_lexer": "ipython3",
   "version": "3.9.16"
  },
  "orig_nbformat": 4
 },
 "nbformat": 4,
 "nbformat_minor": 2
}
