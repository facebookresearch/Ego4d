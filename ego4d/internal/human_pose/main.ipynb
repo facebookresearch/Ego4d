{
 "cells": [
  {
   "attachments": {},
   "cell_type": "markdown",
   "metadata": {},
   "source": [
    "**Set-up**"
   ]
  },
  {
   "cell_type": "code",
   "execution_count": 2,
   "metadata": {},
   "outputs": [
    {
     "name": "stderr",
     "output_type": "stream",
     "text": [
      "/home/jinxu/miniconda3/envs/human_pose/lib/python3.9/site-packages/tqdm/auto.py:21: TqdmWarning: IProgress not found. Please update jupyter and ipywidgets. See https://ipywidgets.readthedocs.io/en/stable/user_install.html\n",
      "  from .autonotebook import tqdm as notebook_tqdm\n",
      "/home/jinxu/code/Ego4d/ego4d/internal/colmap/preprocess.py:648: UserWarning: \n",
      "The version_base parameter is not specified.\n",
      "Please specify a compatability version level, or None.\n",
      "Will assume defaults for version 1.1\n",
      "  @hydra.main(config_path=\"configs\", config_name=None)\n"
     ]
    },
    {
     "name": "stdout",
     "output_type": "stream",
     "text": [
      "apex is not installed\n",
      "apex is not installed\n",
      "apex is not installed\n"
     ]
    }
   ],
   "source": [
    "import argparse\n",
    "import json\n",
    "import os\n",
    "import pickle\n",
    "import shutil\n",
    "import subprocess\n",
    "import sys\n",
    "from dataclasses import dataclass\n",
    "from typing import Any, Dict, List, Optional\n",
    "import matplotlib.pyplot as plt\n",
    "import cv2\n",
    "import hydra\n",
    "import glob\n",
    "import numpy as np\n",
    "from PIL import Image\n",
    "import pandas as pd\n",
    "import random\n",
    "from ego4d.internal.colmap.preprocess import download_andor_generate_streams\n",
    "from ego4d.research.readers import PyAvReader\n",
    "from ego4d.internal.human_pose.bbox_detector import DetectorModel\n",
    "from ego4d.internal.human_pose.camera import (\n",
    "    batch_xworld_to_yimage,\n",
    "    create_camera,\n",
    "    create_camera_data,\n",
    "    get_aria_camera_models\n",
    ")\n",
    "from ego4d.internal.human_pose.config import Config\n",
    "from ego4d.internal.human_pose.dataset import (\n",
    "    get_synced_timesync_df,\n",
    "    SyncedEgoExoCaptureDset,\n",
    ")\n",
    "from ego4d.internal.human_pose.pose_estimator import PoseModel\n",
    "from ego4d.internal.human_pose.readers import read_frame_idx_set\n",
    "from ego4d.internal.human_pose.triangulator import Triangulator\n",
    "from ego4d.internal.human_pose.utils import (\n",
    "    check_and_convert_bbox,\n",
    "    draw_bbox_xyxy,\n",
    "    draw_points_2d,\n",
    "    get_exo_camera_plane,\n",
    "    get_region_proposal,\n",
    "    get_bbox_fromKpts,\n",
    "    get_two_small_bboxes,\n",
    "    left_right_bboxes_div,\n",
    "    aria_extracted_to_original,\n",
    "    aria_original_to_extracted\n",
    ")\n",
    "\n",
    "from iopath.common.file_io import PathManager\n",
    "from iopath.common.s3 import S3PathHandler\n",
    "from tqdm.auto import tqdm\n",
    "\n",
    "from mmdet.apis import inference_detector, init_detector\n",
    "\n",
    "pathmgr = PathManager()\n",
    "pathmgr.register_handler(S3PathHandler(profile=\"default\"))\n",
    "%matplotlib inline\n",
    "\n",
    "import projectaria_tools"
   ]
  },
  {
   "attachments": {},
   "cell_type": "markdown",
   "metadata": {},
   "source": [
    "#### Demo: Video to image in `preprocess`"
   ]
  },
  {
   "cell_type": "code",
   "execution_count": null,
   "metadata": {},
   "outputs": [],
   "source": [
    "path = '/media/jinxu/New Volume/ego4dData/takes/sfu_cooking_013_3/frame_aligned_videos/cam01.mp4'\n",
    "reader = PyAvReader(\n",
    "                path=path,\n",
    "                resize=None,\n",
    "                mean=None,\n",
    "                frame_window_size=1,\n",
    "                stride=1,\n",
    "                gpu_idx=-1,\n",
    "            )\n",
    "\n",
    "print(len(reader))"
   ]
  },
  {
   "attachments": {},
   "cell_type": "markdown",
   "metadata": {},
   "source": [
    "#### Extract Aria calibration"
   ]
  },
  {
   "cell_type": "code",
   "execution_count": null,
   "metadata": {},
   "outputs": [],
   "source": [
    "all_take_root = \"/media/jinxu/New Volume/ego4dData/takes\"\n",
    "all_capture_root = \"/media/jinxu/New Volume/ego4dData/captures\"\n",
    "all_takes = os.listdir(all_take_root)\n",
    "print('All downloaded takes:')\n",
    "for t in all_takes:\n",
    "    print(t)"
   ]
  },
  {
   "cell_type": "code",
   "execution_count": null,
   "metadata": {},
   "outputs": [],
   "source": [
    "import projectaria_tools\n",
    "\n",
    "#########################\n",
    "test_take = 'iiith_cooking_01_1'\n",
    "#########################\n",
    "\n",
    "# ----------------- code from camera.py ----------------- #\n",
    "test_capture = \"_\".join(test_take.split('_')[:-1])\n",
    "aria_path = os.path.join(all_capture_root, test_capture, \"videos/aria01.vrs\")\n",
    "\n",
    "vrs_data_provider = projectaria_tools.dataprovider.AriaVrsDataProvider()\n",
    "vrs_data_provider.openFile(aria_path)\n",
    "\n",
    "aria_stream_id = projectaria_tools.dataprovider.StreamId(214, 1)\n",
    "vrs_data_provider.setStreamPlayer(aria_stream_id)\n",
    "vrs_data_provider.readFirstConfigurationRecord(aria_stream_id)\n",
    "\n",
    "aria_stream_id = projectaria_tools.dataprovider.StreamId(1201, 1)\n",
    "vrs_data_provider.setStreamPlayer(aria_stream_id)\n",
    "vrs_data_provider.readFirstConfigurationRecord(aria_stream_id)\n",
    "\n",
    "aria_stream_id = projectaria_tools.dataprovider.StreamId(1201, 2)\n",
    "vrs_data_provider.setStreamPlayer(aria_stream_id)\n",
    "vrs_data_provider.readFirstConfigurationRecord(aria_stream_id)\n",
    "\n",
    "assert vrs_data_provider.loadDeviceModel()\n",
    "\n",
    "aria_camera_model = vrs_data_provider.getDeviceModel()\n",
    "slam_left = aria_camera_model.getCameraCalib(\"camera-slam-left\")\n",
    "slam_right = aria_camera_model.getCameraCalib(\"camera-slam-right\")\n",
    "rgb_cam = aria_camera_model.getCameraCalib(\"camera-rgb\")\n",
    "# -------------------------------------------------------- #"
   ]
  },
  {
   "cell_type": "code",
   "execution_count": null,
   "metadata": {},
   "outputs": [],
   "source": [
    "rgb_cam.T_Device_Camera"
   ]
  },
  {
   "attachments": {},
   "cell_type": "markdown",
   "metadata": {},
   "source": [
    "#### Using Calibration Sensor Data [(legacy)](https://facebookresearch.github.io/Aria_data_tools/docs/howto/calibration/#intrinsics)\n",
    "\n",
    "Reproject wholebody-Hand pose3d kpts onto aria image plane"
   ]
  },
  {
   "cell_type": "code",
   "execution_count": 7,
   "metadata": {},
   "outputs": [
    {
     "name": "stdout",
     "output_type": "stream",
     "text": [
      "load checkpoint from http path: https://download.openmmlab.com/mmpose/hand/dark/hrnetv2_w18_coco_wholebody_hand_256x256_dark-a9228c9c_20210908.pth\n",
      "[Warning] Hitting exception No module named 'projectaria_tools.core'; 'projectaria_tools' is not a package. Fall back to old projectaria_tools ...\n",
      "All valid camera names:\n",
      " dict_keys(['aria01_rgb', 'aria01_slam-left', 'aria01_slam-right', 'cam01_0', 'cam02_0', 'cam03_0', 'cam04_0'])\n"
     ]
    },
    {
     "name": "stderr",
     "output_type": "stream",
     "text": [
      "\u001b[38;2;255;165;000m[VRSIndexRecord][WARNING]: 6 record(s) not sorted properly. Sorting index.\u001b[0m\n",
      "\u001b[0m"
     ]
    },
    {
     "name": "stdout",
     "output_type": "stream",
     "text": [
      "Eye stream player doesn't exist, cannot update camera calibration\n"
     ]
    }
   ],
   "source": [
    "########### Parameter ###########\n",
    "test_case = 'georgiatech_covid_02_2' # iu_music, georgiatech_covid_02_2, iiith_cooking_01_1, sfu_cooking_013_3\n",
    "# exo_cam_names = ['cam02','cam03']\n",
    "tri_threshold = 0.5\n",
    "legacy = test_case in ['iu_music']\n",
    "#################################\n",
    "if legacy:\n",
    "    dataset_dir = f'/media/jinxu/New Volume/ego4dData/cache/{test_case}/dataset'\n",
    "    dset = SyncedEgoExoCaptureDset(\n",
    "        data_dir=\"/media/jinxu/New Volume/ego4dData\",\n",
    "        dataset_json_path=f\"/media/jinxu/New Volume/ego4dData/cache/{test_case}/dataset/data.json\",\n",
    "        read_frames=False,\n",
    "        legacy=legacy\n",
    "    )\n",
    "    aria_path = f\"/media/jinxu/New Volume/ego4dData/cache/{test_case}/aria01.vrs\"\n",
    "    # Name mapping from dset to get_aria_camera_model\n",
    "    stream_name_to_id = {\n",
    "        \"aria_rgb\": \"214-1\",\n",
    "        \"aria_slam_left\": \"1201-1\",\n",
    "        \"aria_slam_right\": \"1201-2\",\n",
    "    }\n",
    "else:\n",
    "    dataset_dir = f'/media/jinxu/New Volume/ego4dData/cache/{test_case}'\n",
    "    dset = SyncedEgoExoCaptureDset(\n",
    "        data_dir=\"/media/jinxu/New Volume/ego4dData\",\n",
    "        dataset_json_path=f\"/media/jinxu/New Volume/ego4dData/cache/{test_case}/data.json\",\n",
    "        read_frames=False,\n",
    "        legacy=legacy\n",
    "    )\n",
    "    test_capture = \"_\".join(test_case.split('_')[:-1])\n",
    "    aria_path = f\"/media/jinxu/New Volume/ego4dData/captures/{test_capture}/videos/aria01.vrs\"\n",
    "    # Name mapping from dset to get_aria_camera_model\n",
    "    stream_name_to_id = {\n",
    "        \"aria01_rgb\": \"214-1\",\n",
    "        \"aria01_slam-left\": \"1201-1\",\n",
    "        \"aria01_slam-right\": \"1201-2\",\n",
    "    }\n",
    "\n",
    "# Hand pose2d model\n",
    "hand_pose_config = 'external/mmlab/mmpose/configs/hand/2d_kpt_sview_rgb_img/topdown_heatmap/coco_wholebody_hand/hrnetv2_w18_coco_wholebody_hand_256x256_dark.py'\n",
    "hand_pose_ckpt = 'https://download.openmmlab.com/mmpose/hand/dark/hrnetv2_w18_coco_wholebody_hand_256x256_dark-a9228c9c_20210908.pth'\n",
    "hand_pose_model = PoseModel(\n",
    "    hand_pose_config, \n",
    "    hand_pose_ckpt, \n",
    "    rgb_keypoint_thres=0.3, \n",
    "    rgb_keypoint_vis_thres=0.3,\n",
    "    refine_bbox=False)\n",
    "\n",
    "# Load 3d wholebody-hand kpts\n",
    "pose3d_dir = os.path.join(dataset_dir, 'body/pose3d', f'wholebodyHand_pose3d_triThresh={tri_threshold}.pkl')\n",
    "with open(pose3d_dir, \"rb\") as f:\n",
    "    wholebodyHand_pose3d = pickle.load(f)\n",
    "\n",
    "\n",
    "def get_aria_camera_models(aria_path):\n",
    "    try:\n",
    "        from projectaria_tools.core import data_provider\n",
    "\n",
    "        vrs_data_provider = data_provider.create_vrs_data_provider(aria_path)\n",
    "        aria_camera_model = vrs_data_provider.get_device_calibration()\n",
    "        slam_left = aria_camera_model.get_camera_calib(\"camera-slam-left\")\n",
    "        slam_right = aria_camera_model.get_camera_calib(\"camera-slam-right\")\n",
    "        rgb_cam = aria_camera_model.get_camera_calib(\"camera-rgb\")\n",
    "    except Exception as e:\n",
    "        print(\n",
    "            f\"[Warning] Hitting exception {e}. Fall back to old projectaria_tools ...\"\n",
    "        )\n",
    "        import projectaria_tools\n",
    "\n",
    "        vrs_data_provider = projectaria_tools.dataprovider.AriaVrsDataProvider()\n",
    "        vrs_data_provider.openFile(aria_path)\n",
    "\n",
    "        aria_stream_id = projectaria_tools.dataprovider.StreamId(214, 1)\n",
    "        vrs_data_provider.setStreamPlayer(aria_stream_id)\n",
    "        vrs_data_provider.readFirstConfigurationRecord(aria_stream_id)\n",
    "\n",
    "        aria_stream_id = projectaria_tools.dataprovider.StreamId(1201, 1)\n",
    "        vrs_data_provider.setStreamPlayer(aria_stream_id)\n",
    "        vrs_data_provider.readFirstConfigurationRecord(aria_stream_id)\n",
    "\n",
    "        aria_stream_id = projectaria_tools.dataprovider.StreamId(1201, 2)\n",
    "        vrs_data_provider.setStreamPlayer(aria_stream_id)\n",
    "        vrs_data_provider.readFirstConfigurationRecord(aria_stream_id)\n",
    "\n",
    "        assert vrs_data_provider.loadDeviceModel()\n",
    "\n",
    "        aria_camera_model = vrs_data_provider.getDeviceModel()\n",
    "        slam_left = aria_camera_model.getCameraCalib(\"camera-slam-left\")\n",
    "        slam_right = aria_camera_model.getCameraCalib(\"camera-slam-right\")\n",
    "        rgb_cam = aria_camera_model.getCameraCalib(\"camera-rgb\")\n",
    "\n",
    "    assert slam_left is not None\n",
    "    assert slam_right is not None\n",
    "    assert rgb_cam is not None\n",
    "\n",
    "    return {\n",
    "        \"1201-1\": slam_left,\n",
    "        \"1201-2\": slam_right,\n",
    "        \"214-1\": rgb_cam,\n",
    "    }\n",
    "\n",
    "\n",
    "# Aria camera models \n",
    "cam_model_dict = get_aria_camera_models(aria_path)\n",
    "\n",
    "# List all ego camera names\n",
    "print('All valid camera names:\\n', dset[0].keys())"
   ]
  },
  {
   "cell_type": "code",
   "execution_count": 8,
   "metadata": {},
   "outputs": [
    {
     "name": "stdout",
     "output_type": "stream",
     "text": [
      "=============== T_camera_device for 1201-1 ===============\n",
      "[[ 1.00000000e+00  0.00000000e+00  0.00000000e+00 -3.46944695e-18]\n",
      " [ 0.00000000e+00  1.00000000e+00  0.00000000e+00  0.00000000e+00]\n",
      " [ 0.00000000e+00  0.00000000e+00  1.00000000e+00  0.00000000e+00]\n",
      " [ 0.00000000e+00  0.00000000e+00  0.00000000e+00  1.00000000e+00]]\n",
      "=============== T_camera_device for 1201-2 ===============\n",
      "[[ 0.99878392  0.04705557  0.01471248  0.00148557]\n",
      " [-0.02577281  0.24393412  0.96944928  0.11237589]\n",
      " [ 0.04202911 -0.96864953  0.24485023 -0.08690043]\n",
      " [ 0.          0.          0.          1.        ]]\n",
      "=============== T_camera_device for 214-1 ===============\n",
      "[[ 0.9942372   0.09624948 -0.04720625  0.00518318]\n",
      " [-0.04628117  0.78257024  0.62083965  0.01250964]\n",
      " [ 0.0966977  -0.61507712  0.78251498 -0.00310918]\n",
      " [ 0.          0.          0.          1.        ]]\n"
     ]
    }
   ],
   "source": [
    "for k in cam_model_dict.keys():\n",
    "    print('='*15,'T_camera_device for',k,'='*15)\n",
    "    R = cam_model_dict[k].T_Device_Camera.rotationMatrix()\n",
    "    t = cam_model_dict[k].T_Device_Camera.translation()\n",
    "    T_device_camera = np.zeros((4, 4))\n",
    "    T_device_camera[0:3, 0:3] = R\n",
    "    T_device_camera[0:3, 3] = t\n",
    "    T_device_camera[3, 3] = 1.0\n",
    "    T_camera_device = np.linalg.inv(T_device_camera)\n",
    "\n",
    "    print(T_camera_device)"
   ]
  },
  {
   "cell_type": "code",
   "execution_count": 13,
   "metadata": {},
   "outputs": [
    {
     "name": "stdout",
     "output_type": "stream",
     "text": [
      "[[-0.50458373  0.4351494  -0.74568107 -2.0196391 ]\n",
      " [ 0.01062484  0.86675813  0.49861554  0.05180901]\n",
      " [ 0.86329739  0.24367055 -0.44197544  3.2879348 ]\n",
      " [ 0.          0.          0.          1.        ]]\n"
     ]
    },
    {
     "data": {
      "text/plain": [
       "<matplotlib.collections.PathCollection at 0x7fbd6675fc70>"
      ]
     },
     "execution_count": 13,
     "metadata": {},
     "output_type": "execute_result"
    },
    {
     "data": {
      "image/png": "[encoded data removed]",
      "text/plain": [
       "<Figure size 640x480 with 1 Axes>"
      ]
     },
     "metadata": {},
     "output_type": "display_data"
    }
   ],
   "source": [
    "###########################\n",
    "timestamp = 45\n",
    "test_cam_name = 'aria01_slam-left' # Please adjust based on the print out from last cell\n",
    "###########################\n",
    "\n",
    "# Load in aria image\n",
    "image_path = dset[timestamp][test_cam_name]['abs_frame_path']\n",
    "image = cv2.imread(image_path)\n",
    "img_H, img_W = image.shape[:2]\n",
    "orig_H, orig_W = img_W, img_H\n",
    "\n",
    "# Extrinsics - from world to camera\n",
    "curr_camera_data = dset[timestamp][test_cam_name]['camera_data']\n",
    "curr_extrinsic = np.array(curr_camera_data[\"T_camera_device\"]) @ np.array(curr_camera_data[\"T_device_world\"])\n",
    "print(curr_extrinsic)\n",
    "\n",
    "# Reproject from world to camera\n",
    "pose3d = wholebodyHand_pose3d[timestamp] # (N,4)\n",
    "pts3d = pose3d[:,:3]\n",
    "pts_cam = np.transpose(curr_extrinsic @ np.append(pts3d, np.ones((len(pts3d),1)), axis=1).T) # (N,4)\n",
    "\n",
    "# Camera to image plane with intrinsic\n",
    "pts_uv = []\n",
    "curr_cam_model = cam_model_dict[stream_name_to_id[test_cam_name]]\n",
    "for curr_cam_pt in pts_cam[:,:3]:\n",
    "    pts_uv.append(curr_cam_model.projectionModel.project(curr_cam_pt))\n",
    "pts_uv = np.array(pts_uv)\n",
    "\n",
    "# Clip kpts coordinate range\n",
    "# if legacy:\n",
    "#     pts_uv[:,0] = np.clip(pts_uv[:,0],0,img_W-1)\n",
    "#     pts_uv[:,1] = np.clip(pts_uv[:,1],0,img_H-1)\n",
    "# else:\n",
    "#     pts_uv[:,0] = np.clip(pts_uv[:,0],0,orig_W-1)\n",
    "#     pts_uv[:,1] = np.clip(pts_uv[:,1],0,orig_H-1)\n",
    "\n",
    "# Select points with nonzero conf\n",
    "right_hand_kpts, left_hand_kpts = pts_uv[21:], pts_uv[:21]\n",
    "right_hand_kpts, left_hand_kpts = right_hand_kpts[pose3d[21:,2]!=0,:], \\\n",
    "                                  left_hand_kpts[pose3d[:21,2]!=0,:]\n",
    "\n",
    "if not legacy:\n",
    "    right_hand_kpts = aria_original_to_extracted(right_hand_kpts, (orig_H, orig_W))\n",
    "    left_hand_kpts = aria_original_to_extracted(left_hand_kpts, (orig_H, orig_W))\n",
    "\n",
    "# Visualization\n",
    "plt.figure()\n",
    "plt.imshow(image[:,:,::-1])\n",
    "plt.scatter(right_hand_kpts[:,0], right_hand_kpts[:,1], s=3, color='b') # [x, y]\n",
    "plt.scatter(left_hand_kpts[:,0], left_hand_kpts[:,1], s=3, color='r')\n",
    "\n",
    "# save_path = 'transfer_test/aria_reprojected_wholebodyHand_pose3Dkpts_legacy.jpg'\n",
    "# projected_pose3d = np.concatenate(\n",
    "#         [pts_uv, pose3d[:, 3].reshape(-1, 1)], axis=1\n",
    "#     )\n",
    "# hand_pose_model.draw_projected_poses3d([projected_pose3d[:21], projected_pose3d[21:]], image, save_path)\n",
    "# plt.figure()\n",
    "# plt.imshow(cv2.imread(save_path)[:,:,::-1])"
   ]
  },
  {
   "attachments": {},
   "cell_type": "markdown",
   "metadata": {},
   "source": [
    "**Incorporate Aria calibration model into `Camera`**"
   ]
  },
  {
   "cell_type": "code",
   "execution_count": 17,
   "metadata": {},
   "outputs": [
    {
     "name": "stdout",
     "output_type": "stream",
     "text": [
      "[Warning] Hitting exception No module named 'projectaria_tools.core'; 'projectaria_tools' is not a package. Fall back to old projectaria_tools ...\n",
      "Eye stream player doesn't exist, cannot update camera calibration\n"
     ]
    },
    {
     "name": "stderr",
     "output_type": "stream",
     "text": [
      "\u001b[38;2;255;165;000m[VRSIndexRecord][WARNING]: 6 record(s) not sorted properly. Sorting index.\u001b[0m\n",
      "\u001b[0m"
     ]
    }
   ],
   "source": [
    "import copy\n",
    "from dataclasses import dataclass\n",
    "from typing import Any, Dict, Optional, Union\n",
    "import pycolmap\n",
    "\n",
    "##############################\n",
    "test_case = \"georgiatech_covid_02_2\"\n",
    "test_capture = \"_\".join(test_case.split('_')[:-1])\n",
    "##############################\n",
    "\n",
    "# Load dataset\n",
    "data_dir = \"/media/jinxu/New Volume/ego4dData\"\n",
    "dset = SyncedEgoExoCaptureDset(\n",
    "        data_dir=data_dir,\n",
    "        dataset_json_path=f\"/media/jinxu/New Volume/ego4dData/cache/{test_case}/data.json\",\n",
    "        read_frames=False,\n",
    "    )\n",
    "\n",
    "# Load aria camera model\n",
    "aria_path = f\"/media/jinxu/New Volume/ego4dData/captures/{test_capture}/videos/aria01.vrs\"      # os.path.join(capture_dir, \"videos/aria01.vrs\")\n",
    "assert os.path.exists(aria_path), f\"{aria_path} doesn\\'t exit. Need aria video downloaded\"\n",
    "aria_camera_models = get_aria_camera_models(aria_path)\n",
    "stream_name_to_id = {\n",
    "        \"aria01_rgb\": \"214-1\",\n",
    "        \"aria01_slam-left\": \"1201-1\",\n",
    "        \"aria01_slam-right\": \"1201-2\",\n",
    "    }\n",
    "\n",
    "Vec2 = np.array\n",
    "Vec3 = np.array\n",
    "Mat44 = np.array\n",
    "AriaCameraModel = Any\n",
    "\n",
    "@dataclass\n",
    "class Camera:\n",
    "    name: str\n",
    "    camera_type: str\n",
    "    center: Vec3  # in world coords\n",
    "    T_device_world: Mat44  # project world pt into device frame\n",
    "    T_world_device: Mat44  # project device pt into world frame\n",
    "    T_device_camera: Mat44  # project camera pt into device frame\n",
    "    T_camera_device: Mat44  # project device pt into camera frame\n",
    "    camera_model: Union[pycolmap.Camera, AriaCameraModel]  # intrinsics\n",
    "    device_row: dict  # raw data constructed camera from\n",
    "    extrinsics: Mat44  # project world pt into camera frame\n",
    "\n",
    "\n",
    "class legacy_aria_cameraModel:\n",
    "    def __init__(self, camera_name, camera_model):\n",
    "        self.camera_name = camera_name\n",
    "        self.camera_model = camera_model\n",
    "\n",
    "    def image_to_world(self, point_2d):\n",
    "        return self.camera_model.projectionModel.unproject(point_2d)\n",
    "    \n",
    "    def world_to_image(self, pt):\n",
    "        pt_padded = np.append(pt, 1)\n",
    "        return self.camera_model.projectionModel.project(pt_padded)\n",
    "\n",
    "########### Mofidied by jinxu ###############\n",
    "def create_camera(camera_data, camera_model):\n",
    "    ret = copy.deepcopy(camera_data)\n",
    "    if camera_data[\"camera_type\"] == \"aria\":\n",
    "        ret[\"camera_model\"] = camera_model\n",
    "    else:\n",
    "        ret[\"camera_model\"] = _create_exo_camera(ret[\"device_row\"])\n",
    "\n",
    "    for key in [\n",
    "        \"center\",\n",
    "        \"T_device_world\",\n",
    "        \"T_world_device\",\n",
    "        \"T_device_camera\",\n",
    "        \"T_camera_device\",\n",
    "    ]:\n",
    "        ret[key] = np.array(camera_data[key])\n",
    "\n",
    "    ret[\"extrinsics\"] = (\n",
    "        ret[\"T_camera_device\"] @ ret[\"T_device_world\"]\n",
    "    )  ## map world point to camera frame\n",
    "    return Camera(**ret)\n",
    "\n",
    "\n",
    "def _create_exo_camera(exo_cam_desc):\n",
    "    params = [exo_cam_desc[f\"intrinsics_{i}\"] for i in range(8)]\n",
    "    camera = pycolmap.Camera(\n",
    "        model=\"OPENCV_FISHEYE\",\n",
    "        width=exo_cam_desc[\"image_width\"],\n",
    "        height=exo_cam_desc[\"image_height\"],\n",
    "        params=params,\n",
    "    )\n",
    "    return camera"
   ]
  },
  {
   "cell_type": "code",
   "execution_count": 18,
   "metadata": {},
   "outputs": [],
   "source": [
    "###########################\n",
    "timestamp = 1\n",
    "camera_name = 'aria01_rgb'\n",
    "###########################\n",
    "\n",
    "# Load in aria image\n",
    "image_path = dset[timestamp][camera_name][\"abs_frame_path\"]\n",
    "image = cv2.imread(image_path)\n",
    "\n",
    "# Create camera \n",
    "curr_camera_data = dset[timestamp][camera_name]['camera_data']\n",
    "ari_calib_model = legacy_aria_cameraModel(camera_name, aria_camera_models[stream_name_to_id[camera_name]])\n",
    "aria_camera = create_camera(curr_camera_data, ari_calib_model)"
   ]
  },
  {
   "attachments": {},
   "cell_type": "markdown",
   "metadata": {},
   "source": [
    "#### Multiview stitched pose estimation visualization"
   ]
  },
  {
   "attachments": {},
   "cell_type": "markdown",
   "metadata": {},
   "source": [
    "**Exo & Ego camera pose2d visualization**"
   ]
  },
  {
   "cell_type": "code",
   "execution_count": 29,
   "metadata": {},
   "outputs": [],
   "source": [
    "########### Parameter ###########\n",
    "scenario = 'georgiatech_covid_02_2'\n",
    "vis_cam_name = ['cam01', 'cam02', 'cam03', 'cam04', 'aria01_rgb'] # sorted(os.listdir(vis_pose_root)) Make sure exo camera is first\n",
    "kpts_vis_threshold = 0.1\n",
    "#################################\n",
    "\n",
    "# Image directories\n",
    "vis_pose_root = f\"/media/jinxu/New Volume/ego4dData/cache/{scenario}/hand/vis_pose2d/visThresh={kpts_vis_threshold}\"\n",
    "dataset_dir = {curr_cam : sorted(glob.glob(os.path.join(vis_pose_root, f\"{curr_cam}_rtmpose\", '*'))) for curr_cam in vis_cam_name}\n",
    "num_img = len(dataset_dir[vis_cam_name[0]])\n",
    "# Visualization save directory\n",
    "save_dir = os.path.join(vis_pose_root, 'Multiview')\n",
    "os.makedirs(save_dir, exist_ok=True)"
   ]
  },
  {
   "cell_type": "code",
   "execution_count": 30,
   "metadata": {},
   "outputs": [
    {
     "name": "stderr",
     "output_type": "stream",
     "text": [
      "100%|██████████| 450/450 [06:55<00:00,  1.08it/s]\n"
     ]
    }
   ],
   "source": [
    "num_rows = 3\n",
    "num_cols = 2\n",
    "vis_H, vis_W = 1080, 1920\n",
    "total_height, total_width = num_rows * vis_H, num_cols * vis_W\n",
    "# Iterate through all images\n",
    "for idx in tqdm(range(num_img)):\n",
    "    canvas = 255 * np.zeros((total_height, total_width, 3))\n",
    "    for img_idx, curr_cam_name in enumerate(vis_cam_name):\n",
    "        if 'aria' not in curr_cam_name:\n",
    "            curr_img_dir = dataset_dir[curr_cam_name][idx]\n",
    "            camera_image = cv2.resize(cv2.imread(curr_img_dir), (vis_W, vis_H))\n",
    "\n",
    "            # Append current image into canvas\n",
    "            row_idx = img_idx // num_cols\n",
    "            col_idx = img_idx % num_cols\n",
    "\n",
    "            origin_x = vis_W * col_idx\n",
    "            origin_y = vis_H * row_idx\n",
    "            canvas[origin_y:origin_y+vis_H, origin_x:origin_x+vis_W, :] = camera_image\n",
    "        else:\n",
    "            aria_origin_y, aria_origin_x = (num_rows-1)*vis_H, (vis_W-vis_H)//2\n",
    "            curr_img_dir = dataset_dir[curr_cam_name][idx]\n",
    "            vis_aria_img = cv2.resize(cv2.imread(curr_img_dir), (vis_H, vis_H))\n",
    "            canvas[aria_origin_y:aria_origin_y+vis_H, aria_origin_x:aria_origin_x+vis_H] = vis_aria_img\n",
    "\n",
    "    # Save result\n",
    "    # canvas = cv2.resize(canvas, (5760,2160))\n",
    "    cv2.imwrite(os.path.join(save_dir, f'{idx:06d}.jpg'), canvas)"
   ]
  },
  {
   "attachments": {},
   "cell_type": "markdown",
   "metadata": {},
   "source": [
    "**Exo & Ego camera pose3d visualization**"
   ]
  },
  {
   "cell_type": "code",
   "execution_count": 8,
   "metadata": {},
   "outputs": [
    {
     "name": "stdout",
     "output_type": "stream",
     "text": [
      "All datasets:\n",
      " ['georgiatech_covid_02_2', 'iiith_cooking_01_1', 'iu_music', 'iu_music_Latest', 'sfu_cooking_013_3']\n"
     ]
    }
   ],
   "source": [
    "# All datasets\n",
    "dataset_root = \"/media/jinxu/New Volume/ego4dData\" # '/mnt/shared/ego4dData'\n",
    "dataset_dir = os.path.join(dataset_root, 'cache')\n",
    "print('All datasets:\\n', os.listdir(dataset_dir))"
   ]
  },
  {
   "cell_type": "code",
   "execution_count": 9,
   "metadata": {},
   "outputs": [],
   "source": [
    "########### Parameter ###########\n",
    "scenario = 'georgiatech_covid_02_2'\n",
    "vis_cam_name = ['cam01', 'cam02', 'cam03', 'cam04', 'aria01_rgb'] # sorted(os.listdir(vis_pose_root)) Make sure exo camera is first\n",
    "tri_threshold = 0.2\n",
    "camera_used = 'ego_exo_camera'\n",
    "assert camera_used in ['ego_exo_camera', 'exo_camera'], f\"cameras_used has to be one of ['ego_exo_camera', 'exo_camera']\"\n",
    "#################################\n",
    "\n",
    "# Image directories\n",
    "vis_pose_root = f\"/media/jinxu/New Volume/ego4dData/cache/{scenario}/hand/vis_pose3d/{camera_used}/triThresh={tri_threshold}\"\n",
    "dataset_dir = {curr_cam : sorted(glob.glob(os.path.join(vis_pose_root, curr_cam, '*'))) for curr_cam in vis_cam_name}\n",
    "num_img = len(dataset_dir[vis_cam_name[0]])\n",
    "# Visualization save directory\n",
    "save_dir = os.path.join(vis_pose_root, 'Multiview')\n",
    "os.makedirs(save_dir, exist_ok=True)"
   ]
  },
  {
   "cell_type": "code",
   "execution_count": 10,
   "metadata": {},
   "outputs": [
    {
     "name": "stderr",
     "output_type": "stream",
     "text": [
      "100%|██████████| 450/450 [07:33<00:00,  1.01s/it]\n"
     ]
    }
   ],
   "source": [
    "num_rows = 3\n",
    "num_cols = 2\n",
    "vis_H, vis_W = 1080, 1920\n",
    "total_height, total_width = num_rows * vis_H, num_cols * vis_W\n",
    "# Iterate through all images\n",
    "for idx in tqdm(range(num_img)):\n",
    "    canvas = 255 * np.zeros((total_height, total_width, 3))\n",
    "    for img_idx, curr_cam_name in enumerate(vis_cam_name):\n",
    "        if 'aria' not in curr_cam_name:\n",
    "            curr_img_dir = dataset_dir[curr_cam_name][idx]\n",
    "            camera_image = cv2.resize(cv2.imread(curr_img_dir), (vis_W, vis_H))\n",
    "\n",
    "            # Append current image into canvas\n",
    "            row_idx = img_idx // num_cols\n",
    "            col_idx = img_idx % num_cols\n",
    "\n",
    "            origin_x = vis_W * col_idx\n",
    "            origin_y = vis_H * row_idx\n",
    "            canvas[origin_y:origin_y+vis_H, origin_x:origin_x+vis_W, :] = camera_image\n",
    "        else:\n",
    "            aria_origin_y, aria_origin_x = (num_rows-1)*vis_H, (vis_W-vis_H)//2\n",
    "            curr_img_dir = dataset_dir[curr_cam_name][idx]\n",
    "            vis_aria_img = cv2.resize(cv2.imread(curr_img_dir), (vis_H, vis_H))\n",
    "            canvas[aria_origin_y:aria_origin_y+vis_H, aria_origin_x:aria_origin_x+vis_H] = vis_aria_img\n",
    "\n",
    "    # Save result\n",
    "    # canvas = cv2.resize(canvas, (5760,2160))\n",
    "    cv2.imwrite(os.path.join(save_dir, f'{idx:06d}.jpg'), canvas)"
   ]
  }
 ],
 "metadata": {
  "kernelspec": {
   "display_name": "human_pose",
   "language": "python",
   "name": "python3"
  },
  "language_info": {
   "codemirror_mode": {
    "name": "ipython",
    "version": 3
   },
   "file_extension": ".py",
   "mimetype": "text/x-python",
   "name": "python",
   "nbconvert_exporter": "python",
   "pygments_lexer": "ipython3",
   "version": "3.9.16"
  },
  "orig_nbformat": 4
 },
 "nbformat": 4,
 "nbformat_minor": 2
}
