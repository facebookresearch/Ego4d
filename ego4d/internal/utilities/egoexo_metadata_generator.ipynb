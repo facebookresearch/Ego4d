{
 "cells": [
  {
   "attachments": {},
   "cell_type": "markdown",
   "metadata": {
    "customInput": null,
    "deletable": false,
    "editable": false,
    "originalKey": "27e014a8-037f-44e4-9977-c2f4ef657ac1",
    "showInput": false
   },
   "source": [
    "# EgoExo Manifest Generator\n",
    "\n",
    "Generates a set of EgoExo manifest files from the given s3 directory using smart defaults.\n",
    "\n",
    "### Pre-requisites:\n",
    "- Jupyter kernel with boto3 and pandas installed\n",
    "- You have run `aws configure` and set up your AWS keys\n",
    "- (Highly recommended) Recorded files are already uploaded to s3\n",
    "- ROOT_DIR has the structure defined in [Ego-Exo Transfer Guidelines](https://docs.google.com/spreadsheets/d/1Gn_aMgOlTBc9SaPjbrwmKeokaoQB-yTA9UaWhEuMuUc/edit#gid=1965268626)  (e.g. \\<root\\>/data/\\<capture_id\\>/..., \\<root\\>/objects/..., \\<root\\>/additional_data/...)\n",
    "\n",
    "### How To Use:\n",
    "1. Set the variables in the cell below.\n",
    "2. Run all. This will output manifest files to `<OUTPUT_DIRECTORY>/manifest_<MANIFEST_VERSION>/`.\n",
    "3. Edit the .csv files to add additional metadata and ensure correctness.\n",
    "4. Continue the instructions in the [Post-Capture Processing Doc](https://docs.google.com/document/d/18DzHt5YrF-mxx7vy9khtoFRzr5gK1NnxfbDS37V2yWA/edit#heading=h.frx7gmruf771)\n",
    "\n",
    "The following files are generated:\n",
    "- capture_metadata.csv\n",
    "- take_metadata.csv\n",
    "- video_metadata.csv\n",
    "- video_component_file.csv\n",
    "- object_metadata.csv\n",
    "- participant_metadata.csv\n",
    "- physical_setting.csv\n",
    "- extra_data.csv\n",
    "\n",
    "Note: It is **safe** to modify manifest files after generation and re-run.\n",
    "This notebook will retain existing rows, and only add new ones that didn't exist.\n",
    "\n",
    "Note: Most cells in this notebook are uneditable for safety. Set \n",
    "`\"editable\": true` in a cell's metadata if you want customize it."
   ]
  },
  {
   "cell_type": "code",
   "execution_count": null,
   "metadata": {
    "deletable": false,
    "executionStartTime": 1675967242373,
    "executionStopTime": 1675967242501,
    "originalKey": "8f2b8a6a-6c7a-452c-9be9-26dbeef3c82f",
    "requestMsgId": "73ca408c-784c-4dfc-a99e-1019038ef67f"
   },
   "outputs": [],
   "source": [
    "ROOT_DIR = \"<full s3 path to root data directory>\" # e.g. s3://<university_bucket>/egoexo/\n",
    "WALKAROUND_CAM_NAMES = [\"mobile\"] # Exo Cameras that will always have walkarounds\n",
    "EGO_HAS_WALKAROUND = True # True if Ego Cameras all have walkarounds (this should be the case)\n",
    "DEFAULT_GOPRO_MODEL_TYPE = \"hero10\" # The GoPro Model used for captures. Get ID from Doc: https://tinyurl.com/ymr9mb45.\n",
    "OUTPUT_DIRECTORY = \"<full path to output directory here>\" # e.g. /Users/<username>/egoexo/\n",
    "MANIFEST_VERSION = \"v1\""
   ]
  },
  {
   "cell_type": "code",
   "execution_count": null,
   "metadata": {
    "customInput": null,
    "deletable": false,
    "editable": false,
    "executionStartTime": 1675967242573,
    "executionStopTime": 1675967242589,
    "originalKey": "690fd7da-16d0-4749-9310-34759b9c8762",
    "requestMsgId": "2d8604fe-7573-4768-b13a-2b779c4bec2c",
    "showInput": true
   },
   "outputs": [],
   "source": [
    "# Imports\n",
    "import os\n",
    "import boto3\n",
    "import json\n",
    "import pandas as pd"
   ]
  },
  {
   "cell_type": "code",
   "execution_count": null,
   "metadata": {
    "customInput": null,
    "deletable": false,
    "editable": false,
    "executionStartTime": 1675967242657,
    "executionStopTime": 1675967242688,
    "originalKey": "322891c6-a11d-429c-aa9d-3e7b225afcc7",
    "requestMsgId": "8f076aef-eb3f-4fbb-8a19-2cc926e263f8",
    "showInput": true
   },
   "outputs": [],
   "source": [
    "# Utilities\n",
    "s3 = boto3.resource(\"s3\")\n",
    "\n",
    "def is_s3_path(path):\n",
    "    return path.startswith('s3://')\n",
    "\n",
    "def split_s3_path(s3_path):\n",
    "    path_parts = s3_path.strip().replace(\"s3://\", \"\").split(\"/\")\n",
    "    bucket = path_parts.pop(0)\n",
    "    key = \"/\".join(path_parts)\n",
    "    return bucket, key\n",
    "\n",
    "def ls(path):\n",
    "    if is_s3_path(path):\n",
    "        bucket, key = split_s3_path(path)\n",
    "        if not key.endswith(\"/\"):\n",
    "            key = key + \"/\"\n",
    "        keys = [x.key for x in s3.Bucket(bucket).objects.filter(Prefix=key)]\n",
    "        return sorted(list(set([x.replace(key, '').split('/')[0] for x in keys if not os.path.basename(x).startswith('.')])))\n",
    "    if os.path.isfile(path):\n",
    "        return None\n",
    "    return sorted([f for f in os.listdir(path) if not os.path.basename(f).startswith('.')])\n",
    "\n",
    "def is_video(path):\n",
    "    filename = os.path.basename(path)\n",
    "    return filename.lower().endswith(\".mp4\") or filename.lower().endswith(\".vrs\")\n",
    "\n",
    "def is_image(path):\n",
    "    filename = os.path.basename(path)\n",
    "    extension = os.path.splitext(filename.lower())[1]\n",
    "    return extension in ['.jpg', '.jpeg', '.png', '.gif', '.tif', '.tiff', '.raw']\n",
    "\n",
    "def is_csv(path):\n",
    "    filename = os.path.basename(path)\n",
    "    return filename.lower().endswith(\".csv\")\n",
    "\n",
    "def is_yaml(path):\n",
    "    filename = os.path.basename(path)\n",
    "    extension = os.path.splitext(filename.lower())[1]\n",
    "    return extension in ['.yml', '.yaml']\n",
    "\n",
    "def is_media(path):\n",
    "    return is_video(path) or is_image(path)"
   ]
  },
  {
   "attachments": {},
   "cell_type": "markdown",
   "metadata": {
    "customInput": null,
    "deletable": false,
    "editable": false,
    "originalKey": "737deea5-d718-4f46-bf91-1f1f9aa8a4d7",
    "showInput": false
   },
   "source": [
    "## Generate capture_metadata.csv"
   ]
  },
  {
   "cell_type": "code",
   "execution_count": null,
   "metadata": {
    "customInput": null,
    "deletable": false,
    "editable": false,
    "executionStartTime": 1675967242764,
    "executionStopTime": 1675967243027,
    "originalKey": "e063b100-e856-4d1f-b1a0-5f25dcd03d41",
    "requestMsgId": "53f6ae14-caef-4795-8fa6-f740a197f83e",
    "showInput": true
   },
   "outputs": [],
   "source": [
    "capture_ids = ls(os.path.join(ROOT_DIR, \"data\"))\n",
    "capture_ids"
   ]
  },
  {
   "cell_type": "code",
   "execution_count": null,
   "metadata": {
    "customInput": null,
    "deletable": false,
    "editable": false,
    "executionStartTime": 1675967243113,
    "executionStopTime": 1675967246016,
    "originalKey": "849e6a8a-8735-4b4f-9343-efde1f157fd7",
    "requestMsgId": "c70f823b-1f3c-47d3-959d-bdd6b3f7892d",
    "showInput": true
   },
   "outputs": [],
   "source": [
    "clean_capture_ids = [\n",
    "    x for x in capture_ids if len(set(['ego', 'exo']).intersection(set(ls(os.path.join(ROOT_DIR, \"data\", x))))) > 0\n",
    "]\n",
    "clean_capture_ids"
   ]
  },
  {
   "cell_type": "code",
   "execution_count": null,
   "metadata": {
    "customInput": null,
    "deletable": false,
    "executionStartTime": 1675967246234,
    "executionStopTime": 1675967264021,
    "originalKey": "d939600b-7911-4fc7-b862-c42358f0ca60",
    "requestMsgId": "c18b8a15-91b6-4b52-8c85-1dcd8671762c",
    "showInput": true
   },
   "outputs": [],
   "source": [
    "capture_metadata_records = []\n",
    "for capture_id in clean_capture_ids:\n",
    "    root = os.path.join(ROOT_DIR, \"data\", capture_id)\n",
    "    root_ls = ls(root)\n",
    "    ego_cameras = (\n",
    "        ls(os.path.join(root, \"ego\")) if \"ego\" in root_ls else []\n",
    "    )\n",
    "    exo_cameras = (\n",
    "        ls(os.path.join(root, \"exo\")) if \"exo\" in root_ls else []\n",
    "    )\n",
    "    \n",
    "    take_surveys =  (\n",
    "        ls(os.path.join(root, \"take_surveys\")) if \"take_surveys\" in root_ls else []\n",
    "    )\n",
    "\n",
    "    video_count = 0\n",
    "    for cam in ego_cameras:\n",
    "        video_count += len(\n",
    "            [x for x in ls(os.path.join(root, \"ego\", cam)) if is_video(x)]\n",
    "        )\n",
    "    for cam in exo_cameras:\n",
    "        video_count += len(\n",
    "            [x for x in ls(os.path.join(root, \"exo\", cam)) if is_video(x)]\n",
    "        )\n",
    "        \n",
    "\n",
    "\n",
    "    capture_metadata_records.append(\n",
    "        {\n",
    "            \"university_capture_id\": capture_id,\n",
    "            \"university_video_folder_path\": root if is_s3_path(ROOT_DIR) else \"<fill me in>\",\n",
    "            \"number_videos\": video_count,\n",
    "            \"number_takes\": \"<fill me in>\",\n",
    "            \"post_surveys_relative_path\": os.path.join(root, \"post_surveys.csv\") if \"post_surveys.csv\" in root_ls else \"<fill me in>\",\n",
    "            \"physical_setting_id\": \"<fill me in>\",\n",
    "            \"start_date_recorded_utc\": \"<fill me in>\",\n",
    "            \"additional_metadata\": None,\n",
    "        }\n",
    "    )\n",
    "\n",
    "capture_metadata = pd.DataFrame.from_records(capture_metadata_records)\n",
    "capture_metadata"
   ]
  },
  {
   "attachments": {},
   "cell_type": "markdown",
   "metadata": {
    "deletable": false,
    "editable": false
   },
   "source": [
    "## Generate take_metadata.csv"
   ]
  },
  {
   "cell_type": "code",
   "execution_count": null,
   "metadata": {
    "deletable": false,
    "editable": false
   },
   "outputs": [],
   "source": [
    "take_metadata_records = []\n",
    "for capture_id in clean_capture_ids:\n",
    "    take_metadata_records.append(\n",
    "        {\n",
    "            \"university_capture_id\": capture_id,\n",
    "            \"take_id\": 0,\n",
    "            \"scenario_id\": \"<fill me in>\",\n",
    "            \"is_narrated\": False,\n",
    "            \"is_dropped\": False,\n",
    "            \"take_start_seconds_aria\": None,\n",
    "            \"object_ids\": [],\n",
    "            \"recording_participant_id\": None,\n",
    "            \"additional_metadata\": None,\n",
    "        }\n",
    "    )\n",
    "\n",
    "take_metadata = pd.DataFrame.from_records(take_metadata_records)\n",
    "take_metadata"
   ]
  },
  {
   "attachments": {},
   "cell_type": "markdown",
   "metadata": {
    "customInput": null,
    "deletable": false,
    "editable": false,
    "originalKey": "9d60f5bc-97d1-4213-b25b-eee4b2a80a45",
    "showInput": false
   },
   "source": [
    "## Generate video_metadata.csv"
   ]
  },
  {
   "cell_type": "code",
   "execution_count": null,
   "metadata": {
    "customInput": null,
    "deletable": false,
    "editable": false,
    "executionStartTime": 1675967264096,
    "executionStopTime": 1675967281546,
    "originalKey": "b610d056-7b0d-46c9-b74c-bf8973f38554",
    "requestMsgId": "157e176c-1e7e-47c5-9ae9-f7d5517d9ac6",
    "showInput": true
   },
   "outputs": [],
   "source": [
    "video_metadata_records = []\n",
    "for capture_id in clean_capture_ids:\n",
    "    root = os.path.join(ROOT_DIR, \"data\", capture_id)\n",
    "    root_ls = ls(root)\n",
    "    ego_cameras = (\n",
    "        ls(os.path.join(root, \"ego\")) if \"ego\" in root_ls else []\n",
    "    )\n",
    "    exo_cameras = (\n",
    "        ls(os.path.join(root, \"exo\")) if \"exo\" in root_ls else []\n",
    "    )\n",
    "\n",
    "    video_count = 0\n",
    "    for cam in ego_cameras:\n",
    "        cam_root = os.path.join(root, \"ego\", cam)\n",
    "        cam_ls = [x for x in ls(cam_root) if is_video(x)]\n",
    "        video_metadata_records.append(\n",
    "            {\n",
    "                \"university_capture_id\": capture_id,\n",
    "                \"university_video_id\": cam,\n",
    "                \"number_video_components\": len(cam_ls),\n",
    "                \"is_ego\": True,\n",
    "                \"has_walkaround\": EGO_HAS_WALKAROUND,\n",
    "                \"is_redacted\": False,\n",
    "                \"includes_audio\": True,\n",
    "                \"device_type\": \"aria\" if len(cam_ls) > 0 and cam_ls[0].endswith('.vrs') else DEFAULT_GOPRO_MODEL_TYPE,\n",
    "                \"device_id\": cam,\n",
    "                \"video_device_settings\": None,\n",
    "                \"additional_metadata\": None,\n",
    "            }\n",
    "        )\n",
    "\n",
    "    for cam in exo_cameras:\n",
    "        cam_root = os.path.join(root, \"exo\", cam)\n",
    "        cam_ls = [x for x in ls(cam_root) if is_video(x)]\n",
    "        video_metadata_records.append(\n",
    "            {\n",
    "                \"university_capture_id\": capture_id,\n",
    "                \"university_video_id\": cam,\n",
    "                \"number_video_components\": len(cam_ls),\n",
    "                \"is_ego\": False,\n",
    "                \"has_walkaround\": cam in WALKAROUND_CAM_NAMES,\n",
    "                \"is_redacted\": False,\n",
    "                \"includes_audio\": True,\n",
    "                \"device_type\": \"aria\" if len(cam_ls) > 0 and cam_ls[0].endswith('.vrs') else DEFAULT_GOPRO_MODEL_TYPE,\n",
    "                \"device_id\": cam,\n",
    "                \"video_device_settings\": None,\n",
    "                \"additional_metadata\": None,\n",
    "            }\n",
    "        )\n",
    "        \n",
    "    # Remove any 'cameras' with 0 videos. This removes extraneous files like .DS_STORE\n",
    "    video_metadata_records = [x for x in video_metadata_records if x['number_video_components'] > 0]\n",
    "\n",
    "video_metadata = pd.DataFrame.from_records(video_metadata_records)\n",
    "video_metadata"
   ]
  },
  {
   "attachments": {},
   "cell_type": "markdown",
   "metadata": {
    "customInput": null,
    "deletable": false,
    "editable": false,
    "originalKey": "caf80054-a983-4cc6-86ba-a1ed319da47e",
    "showInput": false
   },
   "source": [
    "## Generate video_component_file.csv"
   ]
  },
  {
   "cell_type": "code",
   "execution_count": null,
   "metadata": {
    "customInput": null,
    "deletable": false,
    "editable": false,
    "executionStartTime": 1675967281835,
    "executionStopTime": 1675967298459,
    "originalKey": "56dca583-c8f0-47ec-ad50-7225ca31a73e",
    "requestMsgId": "d1d9ea3d-38af-4467-bc6f-c8d326c66fa6",
    "showInput": true
   },
   "outputs": [],
   "source": [
    "video_component_file_records = []\n",
    "for capture_id in clean_capture_ids:\n",
    "    root = os.path.join(ROOT_DIR, \"data\", capture_id)\n",
    "    root_ls = ls(root)\n",
    "    ego_cameras = (\n",
    "        ls(os.path.join(root, \"ego\")) if \"ego\" in root_ls else []\n",
    "    )\n",
    "    exo_cameras = (\n",
    "        ls(os.path.join(root, \"exo\")) if \"exo\" in root_ls else []\n",
    "    )\n",
    "\n",
    "    video_count = 0\n",
    "    for cam in ego_cameras:\n",
    "        cam_root = os.path.join(root, \"ego\", cam)\n",
    "        for i, filename in enumerate(\n",
    "            sorted([x for x in ls(cam_root) if is_video(x)])\n",
    "        ):\n",
    "            video_component_file_records.append(\n",
    "                {\n",
    "                    \"university_capture_id\": capture_id,\n",
    "                    \"university_video_id\": cam,\n",
    "                    \"video_component_relative_path\": f\"ego/{cam}/{filename}\",\n",
    "                    \"component_index\": i,\n",
    "                    \"is_redacted\": False,\n",
    "                }\n",
    "            )\n",
    "\n",
    "    for cam in sorted(exo_cameras):\n",
    "        cam_root = os.path.join(root, \"exo\", cam)\n",
    "        for i, filename in enumerate(\n",
    "            sorted([x for x in ls(cam_root) if is_video(x)])\n",
    "        ):\n",
    "            video_component_file_records.append(\n",
    "                {\n",
    "                    \"university_capture_id\": capture_id,\n",
    "                    \"university_video_id\": cam,\n",
    "                    \"video_component_relative_path\": f\"exo/{cam}/{filename}\",\n",
    "                    \"component_index\": i,\n",
    "                    \"is_redacted\": False,\n",
    "                }\n",
    "            )\n",
    "\n",
    "video_component_file = pd.DataFrame.from_records(video_component_file_records)\n",
    "video_component_file"
   ]
  },
  {
   "attachments": {},
   "cell_type": "markdown",
   "metadata": {
    "deletable": false,
    "editable": false
   },
   "source": [
    "## Generate object_metadata.csv"
   ]
  },
  {
   "cell_type": "code",
   "execution_count": null,
   "metadata": {
    "deletable": false,
    "editable": false
   },
   "outputs": [],
   "source": [
    "object_file_records = []\n",
    "object_files = [x for x in ls(os.path.join(ROOT_DIR, \"objects\"))]\n",
    "\n",
    "for object_file in object_files:\n",
    "    file_stem = os.path.splitext(object_file)[0]\n",
    "    \n",
    "    object_file_records.append({\n",
    "        \"university_object_id\": file_stem,\n",
    "        \"object_name\": file_stem[:file_stem.rindex(\"_\")] if \"_\" in file_stem else file_stem,\n",
    "        \"object_relative_path\": os.path.join(\"objects\", object_file) + (\"\" if is_media(object_file) else \"/\"),\n",
    "        \"physical_setting_id\": \"<fill me in>\",\n",
    "        \"additional_metadata\": None,\n",
    "    })\n",
    "\n",
    "object_metadata = pd.DataFrame.from_records(object_file_records)\n",
    "object_metadata"
   ]
  },
  {
   "attachments": {},
   "cell_type": "markdown",
   "metadata": {
    "deletable": false,
    "editable": false
   },
   "source": [
    "## Generate participant_metadata.csv"
   ]
  },
  {
   "cell_type": "code",
   "execution_count": null,
   "metadata": {
    "deletable": false,
    "editable": false
   },
   "outputs": [],
   "source": [
    "participant_records = []\n",
    "participant_records.append({\n",
    "    \"participant_id\": \"participant_0\",\n",
    "    \"scenario_id\": \"<fill me in>\",\n",
    "    \"collection_date\": \"<fill me in with YYYY-MM-DD>\",\n",
    "    \"pre_survey_data\": json.dumps({\"recording_location\": \"<fill me in>\"}) + \"...\",\n",
    "    \"participant_metadata\": json.dumps({\"age_range\": \"<fill me in>\"}) + \"...\",\n",
    "})\n",
    "\n",
    "participant_metadata = pd.DataFrame.from_records(participant_records)\n",
    "participant_metadata"
   ]
  },
  {
   "attachments": {},
   "cell_type": "markdown",
   "metadata": {
    "deletable": false,
    "editable": false
   },
   "source": [
    "## Generate physical_setting.csv"
   ]
  },
  {
   "cell_type": "code",
   "execution_count": null,
   "metadata": {
    "deletable": false,
    "editable": false
   },
   "outputs": [],
   "source": [
    "# Placeholder file; please fill out csv on your own\n",
    "physical_setting_records = []\n",
    "physical_setting_records.append({\n",
    "    \"setting_id\": \"<fill me in>\",\n",
    "    \"name\": \"<fill me in>\"\n",
    "})\n",
    "\n",
    "physical_setting = pd.DataFrame.from_records(physical_setting_records)\n",
    "physical_setting"
   ]
  },
  {
   "attachments": {},
   "cell_type": "markdown",
   "metadata": {
    "deletable": false,
    "editable": false
   },
   "source": [
    "## Generate extra_data.csv"
   ]
  },
  {
   "cell_type": "code",
   "execution_count": null,
   "metadata": {
    "deletable": false,
    "editable": false
   },
   "outputs": [],
   "source": [
    "# Placeholder file; please fill out csv on your own\n",
    "extra_data_records = []\n",
    "extra_data_records.append({\n",
    "    \"extra_data_id\": \"<fill me in>\",\n",
    "    \"university_capture_id\": \"<fill me in>\",\n",
    "    \"take_id\": \"<fill me in>\",\n",
    "    \"annotation_data\": \"<fill me in>\"\n",
    "})\n",
    "\n",
    "extra_data = pd.DataFrame.from_records(extra_data_records)\n",
    "extra_data"
   ]
  },
  {
   "attachments": {},
   "cell_type": "markdown",
   "metadata": {
    "customInput": null,
    "deletable": false,
    "editable": false,
    "originalKey": "99d4c9fd-67a9-415d-856f-83a034f4df46",
    "showInput": false
   },
   "source": [
    "## Write new manifest files to Output Directory"
   ]
  },
  {
   "cell_type": "code",
   "execution_count": null,
   "metadata": {
    "customInput": null,
    "deletable": false,
    "editable": false,
    "executionStartTime": 1675967298686,
    "executionStopTime": 1675967300187,
    "originalKey": "3d537ee2-5843-4833-9de9-f4ce9f4c699b",
    "requestMsgId": "8e1000fd-4b27-4c59-89de-f7a95a9dc781",
    "showInput": true
   },
   "outputs": [],
   "source": [
    "manifest_dir = os.path.join(OUTPUT_DIRECTORY, f\"manifest_{MANIFEST_VERSION}\")\n",
    "file_dfs = {\n",
    "    \"capture_metadata.csv\": {\n",
    "        \"data\": capture_metadata,\n",
    "        \"primary_keys\": [\"university_capture_id\"]\n",
    "    },\n",
    "    \"take_metadata.csv\": {\n",
    "        \"data\": take_metadata,\n",
    "        \"primary_keys\": [\"university_capture_id\", \"take_id\"]\n",
    "    },\n",
    "    \"video_metadata.csv\": {\n",
    "        \"data\": video_metadata,\n",
    "        \"primary_keys\": [\"university_capture_id\", \"university_video_id\"]\n",
    "    },\n",
    "    \"video_component_file.csv\": {\n",
    "        \"data\": video_component_file,\n",
    "        \"primary_keys\": [\"university_capture_id\", \"university_video_id\", \"component_index\", \"video_component_relative_path\"]\n",
    "    },\n",
    "    \"object_metadata.csv\": {\n",
    "        \"data\": object_metadata,\n",
    "        \"primary_keys\": [\"university_object_id\"]\n",
    "    },\n",
    "    \"participant_metadata.csv\": {\n",
    "        \"data\": participant_metadata,\n",
    "        \"primary_keys\": [\"participant_id\"]\n",
    "    },\n",
    "    \"physical_setting.csv\": {\n",
    "        \"data\": physical_setting,\n",
    "        \"primary_keys\": [\"setting_id\"]\n",
    "    },\n",
    "    \"extra_data.csv\": {\n",
    "        \"data\": extra_data,\n",
    "        \"primary_keys\": [\"university_capture_id\", \"take_id\", \"annotation_data\"]\n",
    "    }\n",
    "}\n",
    "\n",
    "os.makedirs(manifest_dir, exist_ok = True)\n",
    "for filename in file_dfs.keys():\n",
    "    filepath = os.path.join(manifest_dir, filename)\n",
    "    data, primary_keys = file_dfs[filename]['data'], file_dfs[filename]['primary_keys']\n",
    "\n",
    "    # Filter out rows that already exist in this folder\n",
    "    # based on the dataframe's primary keys\n",
    "    if os.path.isfile(filepath):\n",
    "        assert len([c for c in data.columns if c.endswith('_y') or c.endswith('_x')]) == 0, \"Please rename columns ending in _x or _y\"\n",
    "        \n",
    "        try:\n",
    "            preexisting_data = pd.read_csv(filepath)\n",
    "        except pd.errors.EmptyDataError as e:\n",
    "            continue # Empty files are equivalent to missing files\n",
    "            \n",
    "        data = pd.merge(data, preexisting_data, on=primary_keys, how=\"outer\", indicator=True\n",
    "              ).query('_merge==\"left_only\"')\n",
    "        # Fix column names post-merge and drop merge-specific columns\n",
    "        data = data.drop(columns = ['_merge'] + [c for c in data.columns if c.endswith('_y')])\n",
    "        data = data.rename(columns={\n",
    "            c: c[:-2]\n",
    "            for c in data.columns if c.endswith('_x')\n",
    "        })\n",
    "        data = pd.concat([preexisting_data, data])\n",
    "        print(f\"Retained pre-existing data for {filename}\")\n",
    "    \n",
    "    with open(filepath, \"w\") as f:\n",
    "        data.to_csv(f, index=False)\n",
    "\n",
    "print(f\"Successfully wrote {len(file_dfs)} files to {manifest_dir}\")"
   ]
  }
 ],
 "metadata": {
  "bento_stylesheets": {
   "bento/extensions/flow/main.css": true,
   "bento/extensions/kernel_selector/main.css": true,
   "bento/extensions/kernel_ui/main.css": true,
   "bento/extensions/new_kernel/main.css": true,
   "bento/extensions/system_usage/main.css": true,
   "bento/extensions/theme/main.css": true
  },
  "dataExplorerConfig": {},
  "kernelspec": {
   "display_name": "cv",
   "language": "python",
   "name": "python3"
  },
  "language_info": {
   "codemirror_mode": {
    "name": "ipython",
    "version": 3
   },
   "file_extension": ".py",
   "mimetype": "text/x-python",
   "name": "python",
   "nbconvert_exporter": "python",
   "pygments_lexer": "ipython3",
   "version": "3.10.5"
  },
  "outputWidgetContext": {}
 },
 "nbformat": 4,
 "nbformat_minor": 2
}
