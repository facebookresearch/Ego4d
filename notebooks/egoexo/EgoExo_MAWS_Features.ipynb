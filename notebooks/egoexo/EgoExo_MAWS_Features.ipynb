{
 "cells": [
  {
   "cell_type": "code",
   "execution_count": 2,
   "id": "7cbc87c6",
   "metadata": {},
   "outputs": [],
   "source": [
    "import json\n",
    "import os\n",
    "import random\n",
    "from operator import itemgetter\n",
    "from collections import defaultdict\n",
    "\n",
    "import torch\n",
    "import numpy as np\n",
    "import pandas as pd\n",
    "\n",
    "from PIL import Image\n",
    "from tqdm.auto import tqdm\n",
    "\n",
    "from ego4d.research.readers import TorchAudioStreamReader, PyAvReader\n",
    "VideoReader = TorchAudioStreamReader"
   ]
  },
  {
   "cell_type": "code",
   "execution_count": 3,
   "id": "63a56ea9",
   "metadata": {},
   "outputs": [],
   "source": [
    "RELEASE_DIR = \"/checkpoint/miguelmartin/egoexo_data/dev\"  # NOTE: changeme\n",
    "\n",
    "egoexo = {\n",
    "    \"takes\": os.path.join(RELEASE_DIR, \"takes.json\"),\n",
    "    \"captures\": os.path.join(RELEASE_DIR, \"captures.json\"),\n",
    "    \"physical_setting\": os.path.join(RELEASE_DIR, \"physical_setting.json\"),\n",
    "    \"participants\": os.path.join(RELEASE_DIR, \"participants.json\"),\n",
    "    \"visual_objects\": os.path.join(RELEASE_DIR, \"visual_objects.json\"),\n",
    "}\n",
    "\n",
    "for k, v in egoexo.items():\n",
    "    egoexo[k] = json.load(open(v))\n",
    "\n",
    "takes = egoexo[\"takes\"]\n",
    "captures = egoexo[\"captures\"]\n",
    "takes_by_uid = {x[\"take_uid\"]: x for x in takes}"
   ]
  },
  {
   "cell_type": "code",
   "execution_count": 4,
   "id": "697c64ef",
   "metadata": {},
   "outputs": [
    {
     "data": {
      "text/plain": [
       "'629a4ed5-9d3f-4a61-b699-99e77a03b449_aria02_rgb.pt'"
      ]
     },
     "execution_count": 4,
     "metadata": {},
     "output_type": "execute_result"
    }
   ],
   "source": [
    "features_dir = \"/checkpoint/miguelmartin/egoexo_features/maws_clip_2b_public\"\n",
    "features_paths = [x for x in os.listdir(features_dir) if x != \"config.yaml\"]\n",
    "\n",
    "features_by_take_cam = {}\n",
    "for x in features_paths:\n",
    "    take_uid, cam_id, stream_id_pt = x.split(\"_\")\n",
    "    stream_id = stream_id_pt = stream_id_pt.split(\".\")[0]\n",
    "    if take_uid not in features_by_take_cam:\n",
    "        features_by_take_cam[take_uid] = {}\n",
    "    key = (cam_id, stream_id)\n",
    "    features_by_take_cam[take_uid][key] = os.path.join(features_dir, x)\n",
    "    \n",
    "features_paths[0]"
   ]
  },
  {
   "cell_type": "code",
   "execution_count": 5,
   "id": "f676ddc7",
   "metadata": {},
   "outputs": [],
   "source": [
    "from maws.model_builder import build_model"
   ]
  },
  {
   "cell_type": "code",
   "execution_count": 5,
   "id": "91094c24",
   "metadata": {},
   "outputs": [],
   "source": [
    "model = build_model(\"vit_2b14_xlmr_l\", \"maws_clip\")\n",
    "model = model.eval().half()\n",
    "model = model.to(\"cuda\")"
   ]
  },
  {
   "cell_type": "code",
   "execution_count": 6,
   "id": "38c5039e",
   "metadata": {},
   "outputs": [],
   "source": [
    "txt_labels = [\n",
    "    \"A person using a knife\",\n",
    "    \"Using a serrated knife, the person grips the handle firmly with their dominant hand and positions the blade at a slight angle to the tomato. They then apply gentle pressure and make a smooth, sweeping motion from the stem end towards the bottom of the tomato, carefully slicing off the top in a circular motion.\",\n",
    "    \"A person cutting an onion\",\n",
    "    \"A person picking up a spoon\",\n",
    "    \"A person picking up an object\",\n",
    "    \"A person looking at a chopping board\",\n",
    "    \"A person eating an apple\",\n",
    "    \"An image of a cat\",\n",
    "    \"An image of a dog\",\n",
    "    \"A person cooking\",\n",
    "    \"A person cutting a vegetable\",\n",
    "    \"A person cutting a fruit\",\n",
    "    \"A person setting up a camera on a tripod\",\n",
    "    \"A person opening a bag of noodles\",\n",
    "    \"A person opening a bag\",\n",
    "    \"A chopping board\",\n",
    "    \"Person using a spoon\",\n",
    "    \"Person using a spoon to stir a pot of water\",\n",
    "]\n"
   ]
  },
  {
   "cell_type": "code",
   "execution_count": 15,
   "id": "b8ed3607",
   "metadata": {},
   "outputs": [],
   "source": [
    "# txt_emb = model.encode_texts(\n",
    "#     texts=txt_labels,\n",
    "# )"
   ]
  },
  {
   "cell_type": "code",
   "execution_count": 16,
   "id": "0e388b63",
   "metadata": {},
   "outputs": [
    {
     "data": {
      "text/plain": [
       "dict_keys(['629a4ed5-9d3f-4a61-b699-99e77a03b449', 'd2e07def-3ea4-4c31-b20c-5f5a7ed52fb9', '0b05324a-47a2-456a-9f7a-1c36519d86e0', '53ee9e25-ba9b-429e-9cad-70c223a2f881', 'fd053d4b-ae66-4b8d-880a-bdf1cebc7257', 'a261cc1d-7a45-479f-81a9-7c73eb379e6c', '6bc7a29f-3397-4549-9ee2-d98fa93da873', '154d1224-d0c0-45f9-8e89-33f1ffa04606', '3cbd7070-7c55-4b15-ac31-100ab8c7298a', '515c5c80-f4c2-4909-8bb9-8a11e7d83a91'])"
      ]
     },
     "execution_count": 16,
     "metadata": {},
     "output_type": "execute_result"
    }
   ],
   "source": [
    "features_by_take_cam.keys()"
   ]
  },
  {
   "cell_type": "code",
   "execution_count": 11,
   "id": "6b09441c",
   "metadata": {},
   "outputs": [],
   "source": [
    "vid_fs = [(torch.load(x), k) for k, x in features_by_take_cam[\"154d1224-d0c0-45f9-8e89-33f1ffa04606\"].items()]\n",
    "# vid_fs = torch.stack(vid_fs)"
   ]
  },
  {
   "cell_type": "code",
   "execution_count": 14,
   "id": "fa077925",
   "metadata": {},
   "outputs": [],
   "source": [
    "# vid_fs[0][0].dtype"
   ]
  },
  {
   "cell_type": "code",
   "execution_count": 42,
   "id": "e7703fe8",
   "metadata": {},
   "outputs": [],
   "source": [
    "vfs = vid_fs[0][0].squeeze().cuda()\n",
    "with torch.no_grad():\n",
    "    probs = model.classify(texts=txt_labels, image_features=vfs)"
   ]
  },
  {
   "cell_type": "code",
   "execution_count": 43,
   "id": "cfad8e11",
   "metadata": {},
   "outputs": [
    {
     "name": "stdout",
     "output_type": "stream",
     "text": [
      "0.0 10.0 ['A person cooking', 'A person looking at a chopping board', 'A person cutting a vegetable', 'A person setting up a camera on a tripod']\n",
      "10.0 20.0 ['A person cooking', 'A person looking at a chopping board', 'A person cutting a vegetable', 'A person setting up a camera on a tripod']\n",
      "20.0 30.0 ['A person cooking', 'A person looking at a chopping board', 'A person cutting a vegetable', 'A person setting up a camera on a tripod']\n",
      "30.0 40.0 ['A person cooking', 'A person looking at a chopping board', 'A person cutting a vegetable', 'A person setting up a camera on a tripod']\n",
      "40.0 50.0 ['A person cooking', 'A person setting up a camera on a tripod', 'A person looking at a chopping board', 'A person cutting a vegetable']\n",
      "50.0 60.0 ['A person cooking', 'A person cutting a vegetable', 'A person looking at a chopping board', 'A person setting up a camera on a tripod']\n",
      "60.0 70.0 ['A person cooking', 'A person cutting a vegetable', 'A person looking at a chopping board', 'A person setting up a camera on a tripod']\n",
      "70.0 80.0 ['A person cooking', 'A person looking at a chopping board', 'A person cutting a vegetable', 'A person setting up a camera on a tripod']\n",
      "80.0 90.0 ['A person cooking', 'A person cutting a vegetable', 'A person looking at a chopping board', 'A person setting up a camera on a tripod']\n",
      "90.0 100.0 ['A person cooking', 'A person cutting a vegetable', 'A person looking at a chopping board', 'A person setting up a camera on a tripod']\n",
      "100.0 110.0 ['A person cooking', 'A person cutting a vegetable', 'A person looking at a chopping board', 'A person setting up a camera on a tripod']\n",
      "110.0 120.0 ['A person cooking', 'A person looking at a chopping board', 'A person cutting a vegetable', 'A person setting up a camera on a tripod']\n",
      "120.0 130.0 ['A person cooking', 'A person looking at a chopping board', 'A person cutting a vegetable', 'A person setting up a camera on a tripod']\n",
      "130.0 140.0 ['A person cooking', 'A person looking at a chopping board', 'A person cutting a vegetable', 'A person setting up a camera on a tripod']\n",
      "140.0 150.0 ['A person cooking', 'A person cutting a vegetable', 'A person looking at a chopping board', 'A person setting up a camera on a tripod']\n",
      "150.0 160.0 ['A person cooking', 'A person looking at a chopping board', 'A person cutting a vegetable', 'A person setting up a camera on a tripod']\n",
      "160.0 170.0 ['A person cooking', 'A person looking at a chopping board', 'A person cutting a vegetable', 'A person setting up a camera on a tripod']\n",
      "170.0 180.0 ['A person cooking', 'A person cutting a vegetable', 'A person looking at a chopping board', 'Person using a spoon to stir a pot of water']\n",
      "180.0 190.0 ['A person cooking', 'A person cutting a vegetable', 'A person looking at a chopping board', 'Person using a spoon to stir a pot of water']\n",
      "190.0 200.0 ['A person cooking', 'A person looking at a chopping board', 'A person cutting a vegetable', 'Person using a spoon to stir a pot of water']\n",
      "200.0 210.0 ['A person cooking', 'A person looking at a chopping board', 'A person cutting a vegetable', 'A person setting up a camera on a tripod']\n",
      "210.0 220.0 ['A person cooking', 'A person cutting a vegetable', 'A person looking at a chopping board', 'A person setting up a camera on a tripod']\n",
      "220.0 230.0 ['A person cooking', 'A person looking at a chopping board', 'A person cutting a vegetable', 'A person setting up a camera on a tripod']\n",
      "230.0 240.0 ['A person cooking', 'A person looking at a chopping board', 'A person cutting a vegetable', 'A person setting up a camera on a tripod']\n",
      "240.0 250.0 ['A person cooking', 'A person looking at a chopping board', 'A person cutting a vegetable', 'A person setting up a camera on a tripod']\n",
      "250.0 260.0 ['A person cooking', 'A person cutting a vegetable', 'A person looking at a chopping board', 'A person setting up a camera on a tripod']\n",
      "260.0 270.0 ['A person cooking', 'A person looking at a chopping board', 'A person cutting a vegetable', 'A person setting up a camera on a tripod']\n",
      "270.0 280.0 ['A person cooking', 'A person looking at a chopping board', 'A person cutting a vegetable', 'A person setting up a camera on a tripod']\n",
      "280.0 290.0 ['A person cooking', 'A person looking at a chopping board', 'A person cutting a vegetable', 'A person setting up a camera on a tripod']\n",
      "290.0 300.0 ['A person cooking', 'A person looking at a chopping board', 'A person cutting a vegetable', 'A person setting up a camera on a tripod']\n",
      "300.0 310.0 ['A person cooking', 'A person cutting a vegetable', 'A person looking at a chopping board', 'A person setting up a camera on a tripod']\n",
      "310.0 320.0 ['A person cooking', 'A person looking at a chopping board', 'A person cutting a vegetable', 'A person setting up a camera on a tripod']\n",
      "320.0 330.0 ['A person cooking', 'A person cutting a vegetable', 'A person looking at a chopping board', 'A person setting up a camera on a tripod']\n",
      "330.0 340.0 ['A person cooking', 'A person cutting a vegetable', 'A person looking at a chopping board', 'A person setting up a camera on a tripod']\n",
      "340.0 350.0 ['A person cooking', 'A person cutting a vegetable', 'A person looking at a chopping board', 'A person setting up a camera on a tripod']\n",
      "350.0 360.0 ['A person cooking', 'A person cutting a vegetable', 'A person setting up a camera on a tripod', 'A person looking at a chopping board']\n",
      "360.0 370.0 ['A person cooking', 'A person setting up a camera on a tripod', 'A person cutting a vegetable', 'A person looking at a chopping board']\n",
      "370.0 380.0 ['A person cooking', 'A person looking at a chopping board', 'A person cutting a vegetable', 'A person setting up a camera on a tripod']\n",
      "380.0 390.0 ['A person cooking', 'A person setting up a camera on a tripod', 'A person cutting a vegetable', 'A person looking at a chopping board']\n",
      "390.0 400.0 ['A person cooking', 'A person setting up a camera on a tripod', 'A person cutting a vegetable', 'A person looking at a chopping board']\n",
      "400.0 410.0 ['A person cooking', 'A person cutting a vegetable', 'A person setting up a camera on a tripod', 'A person looking at a chopping board']\n",
      "410.0 420.0 ['A person cooking', 'A person setting up a camera on a tripod', 'A person cutting a vegetable', 'A person looking at a chopping board']\n"
     ]
    }
   ],
   "source": [
    "# ss = 60*30\n",
    "ss = 10*30\n",
    "fps=30\n",
    "for frame in range(0, vfs.shape[0], ss):\n",
    "    label_idxs = probs[frame:frame+ss].mean(0).topk(4).indices.tolist()\n",
    "#     print(label_idxs, \n",
    "    print(frame/fps, (frame+ss)/fps, [txt_labels[idx] for idx in label_idxs])\n",
    "# probs[0:60*30].mean(0)"
   ]
  },
  {
   "cell_type": "code",
   "execution_count": null,
   "id": "ebf256a1",
   "metadata": {},
   "outputs": [],
   "source": []
  }
 ],
 "metadata": {
  "kernelspec": {
   "display_name": "mae",
   "language": "python",
   "name": "mae"
  },
  "language_info": {
   "codemirror_mode": {
    "name": "ipython",
    "version": 3
   },
   "file_extension": ".py",
   "mimetype": "text/x-python",
   "name": "python",
   "nbconvert_exporter": "python",
   "pygments_lexer": "ipython3",
   "version": "3.10.11"
  }
 },
 "nbformat": 4,
 "nbformat_minor": 5
}
